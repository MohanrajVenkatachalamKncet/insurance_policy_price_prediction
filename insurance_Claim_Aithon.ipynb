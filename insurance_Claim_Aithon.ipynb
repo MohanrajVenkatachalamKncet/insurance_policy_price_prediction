{
  "nbformat": 4,
  "nbformat_minor": 0,
  "metadata": {
    "colab": {
      "name": "insurance Claim Aithon.ipynb",
      "provenance": [],
      "collapsed_sections": []
    },
    "kernelspec": {
      "name": "python3",
      "display_name": "Python 3"
    }
  },
  "cells": [
    {
      "cell_type": "code",
      "metadata": {
        "id": "oLtk9JYCF9iW",
        "colab_type": "code",
        "colab": {}
      },
      "source": [
        "import pandas as pd\n",
        "\n",
        "import numpy as np\n",
        "\n",
        "import scipy as sp\n",
        "\n",
        "import matplotlib.pyplot as plt\n",
        "\n",
        "import sklearn as sk\n",
        "from sklearn.model_selection import cross_val_score,KFold\n",
        "#Leave-One-Out cross-validator(LOOCV)\n",
        "from sklearn import model_selection,linear_model\n",
        "\n",
        "from sklearn.metrics import mean_squared_error,mean_absolute_error"
      ],
      "execution_count": 0,
      "outputs": []
    },
    {
      "cell_type": "code",
      "metadata": {
        "id": "fOo02GZNWE8G",
        "colab_type": "code",
        "colab": {}
      },
      "source": [
        "data=pd.read_csv('insurancee.csv')"
      ],
      "execution_count": 0,
      "outputs": []
    },
    {
      "cell_type": "code",
      "metadata": {
        "id": "gXn1Vu1TWk8M",
        "colab_type": "code",
        "colab": {}
      },
      "source": [
        "data"
      ],
      "execution_count": 0,
      "outputs": []
    },
    {
      "cell_type": "code",
      "metadata": {
        "id": "o6syzvfzYGw3",
        "colab_type": "code",
        "colab": {}
      },
      "source": [
        "data.isnull().sum()"
      ],
      "execution_count": 0,
      "outputs": []
    },
    {
      "cell_type": "code",
      "metadata": {
        "id": "2EgRoXctWn3Q",
        "colab_type": "code",
        "colab": {}
      },
      "source": [
        "data.info()"
      ],
      "execution_count": 0,
      "outputs": []
    },
    {
      "cell_type": "code",
      "metadata": {
        "id": "0GmObLxjWqr4",
        "colab_type": "code",
        "colab": {}
      },
      "source": [
        "data.describe()"
      ],
      "execution_count": 0,
      "outputs": []
    },
    {
      "cell_type": "code",
      "metadata": {
        "id": "wWFiZaPRWyLx",
        "colab_type": "code",
        "colab": {}
      },
      "source": [
        "'''\n",
        "from sklearn.preprocessing import LabelEncoder\n",
        "le=LabelEncoder()\n",
        "data['sex']=le.fit_transform(data['sex'])\n",
        "'''\n"
      ],
      "execution_count": 0,
      "outputs": []
    },
    {
      "cell_type": "code",
      "metadata": {
        "id": "8O2QcdyJYCUi",
        "colab_type": "code",
        "colab": {}
      },
      "source": [
        "'''\n",
        "data['sex']\n",
        "'''"
      ],
      "execution_count": 0,
      "outputs": []
    },
    {
      "cell_type": "code",
      "metadata": {
        "id": "H_vYfs8eYM0e",
        "colab_type": "code",
        "colab": {}
      },
      "source": [
        "'''\n",
        "data['smoker']=le.fit_transform(data['smoker'])\n",
        "'''"
      ],
      "execution_count": 0,
      "outputs": []
    },
    {
      "cell_type": "code",
      "metadata": {
        "id": "wq2izoU0YWXk",
        "colab_type": "code",
        "colab": {}
      },
      "source": [
        "'''\n",
        "data['smoker']\n",
        "'''"
      ],
      "execution_count": 0,
      "outputs": []
    },
    {
      "cell_type": "code",
      "metadata": {
        "id": "g6vBP2qxYb0j",
        "colab_type": "code",
        "colab": {}
      },
      "source": [
        "'''\n",
        "data.iloc[0:,0:]\n",
        "'''"
      ],
      "execution_count": 0,
      "outputs": []
    },
    {
      "cell_type": "code",
      "metadata": {
        "id": "mFi02k7pZo-a",
        "colab_type": "code",
        "colab": {}
      },
      "source": [
        "def map_smoking(column):\n",
        "  mapped=[]\n",
        "  for row in column:        \n",
        "      if row==\"yes\":\n",
        "          mapped.append(1)\n",
        "      else:\n",
        "          mapped.append(0)  \n",
        "  return mapped\n",
        "data[\"smoker_norm\"]=map_smoking(data[\"smoker\"])"
      ],
      "execution_count": 0,
      "outputs": []
    },
    {
      "cell_type": "code",
      "metadata": {
        "id": "dVUk9eB6aIFn",
        "colab_type": "code",
        "colab": {}
      },
      "source": [
        "data['smoker_norm']"
      ],
      "execution_count": 0,
      "outputs": []
    },
    {
      "cell_type": "code",
      "metadata": {
        "id": "UtOY4C44aWZZ",
        "colab_type": "code",
        "colab": {}
      },
      "source": [
        "nonnum_cols=[col for col in data.select_dtypes(include=[\"object\"])]"
      ],
      "execution_count": 0,
      "outputs": []
    },
    {
      "cell_type": "code",
      "metadata": {
        "id": "fSQ80uGQafwV",
        "colab_type": "code",
        "colab": {}
      },
      "source": [
        "nonnum_cols"
      ],
      "execution_count": 0,
      "outputs": []
    },
    {
      "cell_type": "code",
      "metadata": {
        "id": "sh390sutavpR",
        "colab_type": "code",
        "colab": {}
      },
      "source": [
        "def map_obese(column):\n",
        "    mapped=[]\n",
        "    for row in column:\n",
        "        if row>30:\n",
        "            mapped.append(1)\n",
        "        else:\n",
        "            mapped.append(0)\n",
        "    return mapped\n",
        "data[\"obese\"]=map_obese(data[\"bmi\"])"
      ],
      "execution_count": 0,
      "outputs": []
    },
    {
      "cell_type": "code",
      "metadata": {
        "id": "n-gpIMWga-Qg",
        "colab_type": "code",
        "colab": {}
      },
      "source": [
        "colnum=len(data.columns)-3\n",
        "fig,ax=plt.subplots(colnum,1,figsize=(3,25))\n",
        "ax[0].set_ylabel(\"charges\")\n",
        "p_vals={}\n",
        "for ind,col in enumerate([i for i in data.columns if i not in [\"smoker\",\"region\",\"charges\",\"sex_norm\"]]):  \n",
        "    ax[ind].scatter(data[col],data.charges,s=5)\n",
        "    ax[ind].set_xlabel(col)\n",
        "    ax[ind].set_ylabel(\"charges\")    \n",
        "plt.show()"
      ],
      "execution_count": 0,
      "outputs": []
    },
    {
      "cell_type": "code",
      "metadata": {
        "id": "BI6vwYy8bRV4",
        "colab_type": "code",
        "colab": {}
      },
      "source": [
        "corr_vals=[]\n",
        "collabel=[]\n",
        "for col in [i for i in data.columns if i not in nonnum_cols]:\n",
        "    \n",
        "    p_val=sp.stats.pearsonr(data[col],data[\"charges\"])\n",
        "    corr_vals.append(np.abs(p_val[0]))\n",
        "    print(col,\": \",np.abs(p_val[0]))\n",
        "    collabel.append(col)\n",
        "plt.bar(range(1,len(corr_vals)+1),corr_vals)\n",
        "plt.xticks(range(1,len(corr_vals)+1),collabel,rotation=45)\n",
        "plt.ylabel(\"Absolute correlation\")"
      ],
      "execution_count": 0,
      "outputs": []
    },
    {
      "cell_type": "code",
      "metadata": {
        "id": "WQD97rDIbnkj",
        "colab_type": "code",
        "colab": {}
      },
      "source": [
        "cols_not_reg3=['age', 'obese', 'smoker_norm']"
      ],
      "execution_count": 0,
      "outputs": []
    },
    {
      "cell_type": "code",
      "metadata": {
        "id": "BRK0JSBIcuYX",
        "colab_type": "code",
        "colab": {}
      },
      "source": [
        "kf=KFold(n_splits=10, random_state=1, shuffle=True)\n",
        "intercepts=[]\n",
        "mses=[]\n",
        "coefs=[]\n",
        "\n",
        "for train_index, test_index in kf.split(data[cols_not_reg3]):\n",
        "    \n",
        "    lr=linear_model.LinearRegression()\n",
        "    lr.fit(data[cols_not_reg3].iloc[train_index],data[\"charges\"].iloc[train_index])\n",
        "    lr_predictions=lr.predict(data[cols_not_reg3].iloc[test_index])\n",
        "    \n",
        "    lr_mse=mean_squared_error(data[\"charges\"].iloc[test_index],lr_predictions)\n",
        "    \n",
        "    intercepts.append(lr.intercept_)\n",
        "    \n",
        "    coefs.append(lr.coef_)\n",
        "    mses.append(lr_mse)"
      ],
      "execution_count": 0,
      "outputs": []
    },
    {
      "cell_type": "code",
      "metadata": {
        "id": "VepU_OIjcoM8",
        "colab_type": "code",
        "colab": {}
      },
      "source": [
        "rmses=[x**.5 for x in mses]#root mean square error\n",
        "avg_rmse=np.mean(rmses)\n",
        "avg_intercept=np.mean(intercepts)\n",
        "age_coefs=[]\n",
        "obesity_coefs=[]\n",
        "smoking_coefs=[]\n",
        "for vals in coefs:\n",
        "    #print vals[0]\n",
        "    age_coefs.append(vals[0])\n",
        "    obesity_coefs.append(vals[1])\n",
        "    smoking_coefs.append(vals[2])\n",
        "age_coef=np.mean(age_coefs)\n",
        "obesity_coef=np.mean(obesity_coefs)\n",
        "smoking_coef=np.mean(smoking_coefs)\n",
        "print(\"a: \",age_coef,\" b: \",obesity_coef,\" c: \",smoking_coef,\" intercept: \",avg_intercept)"
      ],
      "execution_count": 0,
      "outputs": []
    },
    {
      "cell_type": "code",
      "metadata": {
        "id": "1A_qyxxXbxX-",
        "colab_type": "code",
        "colab": {}
      },
      "source": [
        "def calculate_insurance(age,obesity,smoking):\n",
        "    y=(age_coef*age)+(obesity_coef*obesity)+(smoking_coef*smoking)+avg_intercept\n",
        "    return y"
      ],
      "execution_count": 0,
      "outputs": []
    },
    {
      "cell_type": "code",
      "metadata": {
        "id": "wFkIZtr_caHD",
        "colab_type": "code",
        "colab": {}
      },
      "source": [
        "a=int(input(\"enter the age\",end='\\n'))\n",
        "if(a>64):\n",
        "   print(\"your entered Age is too high,it might have a chance to giving wrong prediction\",end='\\n')\n",
        "   print(\"Avoid to giving the policy to the age above 65\",end='\\n')\n",
        "b=float(input(\"enter the bmi value limit is(15 to 30)\",end='\\n'))\n",
        "c=int(input(\"Smoker 1 or Not 0\"))\n",
        "if((b>25)or(b<15)):\n",
        "   print(\"your entered BMI Value is Different so,it might have a chance to giving wrong prediction\",end='\\n')\n",
        "print(calculate_insurance(a,b,c))"
      ],
      "execution_count": 0,
      "outputs": []
    }
  ]
}